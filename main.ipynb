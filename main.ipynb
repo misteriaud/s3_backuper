{
 "cells": [
  {
   "cell_type": "code",
   "execution_count": 24,
   "metadata": {},
   "outputs": [
    {
     "name": "stdout",
     "output_type": "stream",
     "text": [
      "The dotenv extension is already loaded. To reload it, use:\n",
      "  %reload_ext dotenv\n"
     ]
    }
   ],
   "source": [
    "import os\n",
    "import boto3\n",
    "from botocore.config import Config\n",
    "from datetime import datetime, timedelta\n",
    "import git\n",
    "import json"
   ]
  },
  {
   "attachments": {},
   "cell_type": "markdown",
   "metadata": {},
   "source": [
    "# Setup S3 client\n",
    "Need to set env variables in `.env` file."
   ]
  },
  {
   "cell_type": "code",
   "execution_count": 25,
   "metadata": {},
   "outputs": [],
   "source": [
    "region_name = os.getenv(\"AWS_DEFAULT_REGION\")\n",
    "endpoint_url = os.getenv(\"S3_ENDPOINT_URL\")\n",
    "aws_access_key_id = os.getenv(\"AWS_ACCESS_KEY_ID\")\n",
    "aws_secret_access_key = os.getenv(\"AWS_SECRET_ACCESS_KEY\")\n",
    "s3_bucket_name = os.getenv('S3_BUCKET_NAME')\n",
    "to_ignore = json.loads(os.getenv(\"FILE_TO_IGNORE\"))\n",
    "\n",
    "s3_client = boto3.client(\n",
    "    \"s3\",\n",
    "    region_name=region_name,\n",
    "    use_ssl=True,\n",
    "    endpoint_url=endpoint_url,\n",
    "    aws_access_key_id=aws_access_key_id,\n",
    "    aws_secret_access_key=aws_secret_access_key\n",
    ")"
   ]
  },
  {
   "attachments": {},
   "cell_type": "markdown",
   "metadata": {},
   "source": [
    "# Import Gitea libs and setup"
   ]
  },
  {
   "cell_type": "code",
   "execution_count": 26,
   "metadata": {},
   "outputs": [],
   "source": [
    "repo_path = \"./backup_repo\"\n",
    "if not git.repo.fun.is_git_dir(repo_path):\n",
    "    exit\n",
    "\n",
    "files_to_create = []\n",
    "files_to_update = []\n",
    "files_to_delete = []\n",
    "\n",
    "repo = git.Repo(repo_path)\n",
    "commit_message = \"\"\n",
    "\n",
    "repo_files = []\n",
    "for root, dirs, files in os.walk(repo.working_dir):\n",
    "    # Exclude the .git directory\n",
    "    if '.git' in dirs:\n",
    "        dirs.remove('.git')\n",
    "    for file in files:\n",
    "        repo_files.append(os.path.relpath(os.path.join(root, file), repo.working_dir))\n"
   ]
  },
  {
   "cell_type": "code",
   "execution_count": 27,
   "metadata": {},
   "outputs": [],
   "source": [
    "# Create a reusable Paginator\n",
    "paginator = s3_client.get_paginator('list_objects')\n",
    "\n",
    "# Create a PageIterator from the Paginator\n",
    "page_iterator = paginator.paginate(Bucket=s3_bucket_name)\n",
    "\n",
    "for page in page_iterator:\n",
    "    for object in page['Contents']:\n",
    "        if object[\"Key\"].endswith(\"/\") or object[\"Key\"] in to_ignore:\n",
    "            continue\n",
    "        local_file_path = os.path.join(repo.working_dir, object['Key'])\n",
    "\n",
    "        # Try to remove\n",
    "        try: \n",
    "            repo_files.remove(object[\"Key\"])\n",
    "        # If it doesn't work it means that the file does not exist\n",
    "        except:\n",
    "            commit_message += f\"File {object['Key']} was created in the S3 bucket.\"\n",
    "            subdirs = os.path.dirname(local_file_path)\n",
    "            print(subdirs)\n",
    "            if subdirs:\n",
    "                os.makedirs(subdirs, mode=0o777, exist_ok=True)\n",
    "            s3_client.download_file(s3_bucket_name, object[\"Key\"], local_file_path)\n",
    "            continue\n",
    "\n",
    "        # File exists locally, compare the file's hashes\n",
    "        local_file_modified = os.path.getmtime(local_file_path)\n",
    "        s3_file_last_modified = object['LastModified'].timestamp()\n",
    "        if local_file_modified < s3_file_last_modified:\n",
    "            # File has been modified\n",
    "            commit_message += f\"File {object['Key']} was modified in the S3 bucket.\"\n",
    "            s3_client.download_file(s3_bucket_name, object[\"Key\"], local_file_path)\n",
    "\n",
    "for file_to_del in repo_files:\n",
    "    if file_to_del in to_ignore:\n",
    "        continue\n",
    "    commit_message += f\"File {file_to_del} was deleted from the S3 bucket.\"\n",
    "    local_file_path = os.path.join(repo.working_dir, file_to_del)\n",
    "    # Remove the file from the Git index and commit the changes\n",
    "    os.remove(local_file_path)"
   ]
  },
  {
   "cell_type": "markdown",
   "metadata": {},
   "source": []
  },
  {
   "cell_type": "code",
   "execution_count": 28,
   "metadata": {},
   "outputs": [
    {
     "name": "stdout",
     "output_type": "stream",
     "text": [
      "File journal/2023/06/2023-06-26.md was modified in the S3 bucket.\n"
     ]
    }
   ],
   "source": [
    "if commit_message:\n",
    "    repo.git.add(update=True)\n",
    "    repo.index.commit(commit_message)\n",
    "    origin = repo.remote(name='origin')\n",
    "    origin.push()\n",
    "    print(commit_message)"
   ]
  }
 ],
 "metadata": {
  "kernelspec": {
   "display_name": ".venv",
   "language": "python",
   "name": "python3"
  },
  "language_info": {
   "codemirror_mode": {
    "name": "ipython",
    "version": 3
   },
   "file_extension": ".py",
   "mimetype": "text/x-python",
   "name": "python",
   "nbconvert_exporter": "python",
   "pygments_lexer": "ipython3",
   "version": "3.8.10"
  },
  "orig_nbformat": 4,
  "vscode": {
   "interpreter": {
    "hash": "e4da29c518d0dda5ff8e8a5f455f74100e7074e67418647ea924d1d8b0642005"
   }
  }
 },
 "nbformat": 4,
 "nbformat_minor": 2
}
